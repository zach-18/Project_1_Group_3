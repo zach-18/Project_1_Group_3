{
 "cells": [
  {
   "cell_type": "code",
   "execution_count": 2,
   "metadata": {},
   "outputs": [],
   "source": [
    "# Import Dependencies\n",
    "import pandas as pd\n",
    "import csv\n",
    "\n",
    "import os\n",
    "import numpy as np\n",
    "\n",
    "import requests\n",
    "\n",
    "from scipy import stats\n",
    "import matplotlib.pyplot as plt\n",
    "from scipy.stats import linregress\n",
    "import scipy.stats as st"
   ]
  },
  {
   "cell_type": "code",
   "execution_count": 3,
   "metadata": {},
   "outputs": [
    {
     "data": {
      "text/html": [
       "<div>\n",
       "<style scoped>\n",
       "    .dataframe tbody tr th:only-of-type {\n",
       "        vertical-align: middle;\n",
       "    }\n",
       "\n",
       "    .dataframe tbody tr th {\n",
       "        vertical-align: top;\n",
       "    }\n",
       "\n",
       "    .dataframe thead th {\n",
       "        text-align: right;\n",
       "    }\n",
       "</style>\n",
       "<table border=\"1\" class=\"dataframe\">\n",
       "  <thead>\n",
       "    <tr style=\"text-align: right;\">\n",
       "      <th></th>\n",
       "      <th>Unnamed: 0</th>\n",
       "      <th>Year</th>\n",
       "      <th>Month</th>\n",
       "      <th>State</th>\n",
       "      <th>Beverage Type</th>\n",
       "      <th>Gallons</th>\n",
       "      <th>Ethanol</th>\n",
       "      <th>Population</th>\n",
       "      <th>PerCapita</th>\n",
       "      <th>PerCapita3yr</th>\n",
       "      <th>PctChange</th>\n",
       "      <th>index</th>\n",
       "      <th>positive</th>\n",
       "      <th>totalTestResults</th>\n",
       "      <th>Positivity Rate</th>\n",
       "    </tr>\n",
       "  </thead>\n",
       "  <tbody>\n",
       "    <tr>\n",
       "      <th>0</th>\n",
       "      <td>0</td>\n",
       "      <td>2017</td>\n",
       "      <td>1</td>\n",
       "      <td>Alaska</td>\n",
       "      <td>Spirits</td>\n",
       "      <td>103645</td>\n",
       "      <td>42598</td>\n",
       "      <td>593378</td>\n",
       "      <td>0.0718</td>\n",
       "      <td>NaN</td>\n",
       "      <td>NaN</td>\n",
       "      <td>NaN</td>\n",
       "      <td>NaN</td>\n",
       "      <td>NaN</td>\n",
       "      <td>0.0</td>\n",
       "    </tr>\n",
       "    <tr>\n",
       "      <th>1</th>\n",
       "      <td>1</td>\n",
       "      <td>2017</td>\n",
       "      <td>1</td>\n",
       "      <td>Arkansas</td>\n",
       "      <td>Spirits</td>\n",
       "      <td>402885</td>\n",
       "      <td>165586</td>\n",
       "      <td>2455022</td>\n",
       "      <td>0.0674</td>\n",
       "      <td>NaN</td>\n",
       "      <td>NaN</td>\n",
       "      <td>NaN</td>\n",
       "      <td>NaN</td>\n",
       "      <td>NaN</td>\n",
       "      <td>0.0</td>\n",
       "    </tr>\n",
       "    <tr>\n",
       "      <th>2</th>\n",
       "      <td>2</td>\n",
       "      <td>2017</td>\n",
       "      <td>1</td>\n",
       "      <td>Colorado</td>\n",
       "      <td>Spirits</td>\n",
       "      <td>733857</td>\n",
       "      <td>301615</td>\n",
       "      <td>4634346</td>\n",
       "      <td>0.0651</td>\n",
       "      <td>NaN</td>\n",
       "      <td>NaN</td>\n",
       "      <td>NaN</td>\n",
       "      <td>NaN</td>\n",
       "      <td>NaN</td>\n",
       "      <td>0.0</td>\n",
       "    </tr>\n",
       "    <tr>\n",
       "      <th>3</th>\n",
       "      <td>3</td>\n",
       "      <td>2017</td>\n",
       "      <td>1</td>\n",
       "      <td>Connecticut</td>\n",
       "      <td>Spirits</td>\n",
       "      <td>412100</td>\n",
       "      <td>169373</td>\n",
       "      <td>3015481</td>\n",
       "      <td>0.0562</td>\n",
       "      <td>NaN</td>\n",
       "      <td>NaN</td>\n",
       "      <td>NaN</td>\n",
       "      <td>NaN</td>\n",
       "      <td>NaN</td>\n",
       "      <td>0.0</td>\n",
       "    </tr>\n",
       "    <tr>\n",
       "      <th>4</th>\n",
       "      <td>4</td>\n",
       "      <td>2017</td>\n",
       "      <td>1</td>\n",
       "      <td>Florida</td>\n",
       "      <td>Spirits</td>\n",
       "      <td>2770686</td>\n",
       "      <td>1138752</td>\n",
       "      <td>17722275</td>\n",
       "      <td>0.0643</td>\n",
       "      <td>NaN</td>\n",
       "      <td>NaN</td>\n",
       "      <td>NaN</td>\n",
       "      <td>NaN</td>\n",
       "      <td>NaN</td>\n",
       "      <td>0.0</td>\n",
       "    </tr>\n",
       "  </tbody>\n",
       "</table>\n",
       "</div>"
      ],
      "text/plain": [
       "   Unnamed: 0  Year  Month        State Beverage Type  Gallons  Ethanol  \\\n",
       "0           0  2017      1       Alaska       Spirits   103645    42598   \n",
       "1           1  2017      1     Arkansas       Spirits   402885   165586   \n",
       "2           2  2017      1     Colorado       Spirits   733857   301615   \n",
       "3           3  2017      1  Connecticut       Spirits   412100   169373   \n",
       "4           4  2017      1      Florida       Spirits  2770686  1138752   \n",
       "\n",
       "   Population  PerCapita  PerCapita3yr  PctChange  index  positive  \\\n",
       "0      593378     0.0718           NaN        NaN    NaN       NaN   \n",
       "1     2455022     0.0674           NaN        NaN    NaN       NaN   \n",
       "2     4634346     0.0651           NaN        NaN    NaN       NaN   \n",
       "3     3015481     0.0562           NaN        NaN    NaN       NaN   \n",
       "4    17722275     0.0643           NaN        NaN    NaN       NaN   \n",
       "\n",
       "   totalTestResults  Positivity Rate  \n",
       "0               NaN              0.0  \n",
       "1               NaN              0.0  \n",
       "2               NaN              0.0  \n",
       "3               NaN              0.0  \n",
       "4               NaN              0.0  "
      ]
     },
     "execution_count": 3,
     "metadata": {},
     "output_type": "execute_result"
    }
   ],
   "source": [
    "merged_df = pd.read_csv('data/NIHmergedwithCOVIDdata.csv', delimiter = ',')\n",
    "merged_df.head()"
   ]
  },
  {
   "cell_type": "code",
   "execution_count": 4,
   "metadata": {
    "scrolled": true
   },
   "outputs": [
    {
     "data": {
      "text/html": [
       "<div>\n",
       "<style scoped>\n",
       "    .dataframe tbody tr th:only-of-type {\n",
       "        vertical-align: middle;\n",
       "    }\n",
       "\n",
       "    .dataframe tbody tr th {\n",
       "        vertical-align: top;\n",
       "    }\n",
       "\n",
       "    .dataframe thead tr th {\n",
       "        text-align: left;\n",
       "    }\n",
       "\n",
       "    .dataframe thead tr:last-of-type th {\n",
       "        text-align: right;\n",
       "    }\n",
       "</style>\n",
       "<table border=\"1\" class=\"dataframe\">\n",
       "  <thead>\n",
       "    <tr>\n",
       "      <th></th>\n",
       "      <th></th>\n",
       "      <th>PerCapita</th>\n",
       "    </tr>\n",
       "    <tr>\n",
       "      <th></th>\n",
       "      <th></th>\n",
       "      <th>mean</th>\n",
       "    </tr>\n",
       "    <tr>\n",
       "      <th>Year</th>\n",
       "      <th>Month</th>\n",
       "      <th></th>\n",
       "    </tr>\n",
       "  </thead>\n",
       "  <tbody>\n",
       "    <tr>\n",
       "      <th rowspan=\"5\" valign=\"top\">2017</th>\n",
       "      <th>1</th>\n",
       "      <td>0.057459</td>\n",
       "    </tr>\n",
       "    <tr>\n",
       "      <th>2</th>\n",
       "      <td>0.056659</td>\n",
       "    </tr>\n",
       "    <tr>\n",
       "      <th>3</th>\n",
       "      <td>0.066859</td>\n",
       "    </tr>\n",
       "    <tr>\n",
       "      <th>4</th>\n",
       "      <td>0.066686</td>\n",
       "    </tr>\n",
       "    <tr>\n",
       "      <th>5</th>\n",
       "      <td>0.071557</td>\n",
       "    </tr>\n",
       "  </tbody>\n",
       "</table>\n",
       "</div>"
      ],
      "text/plain": [
       "           PerCapita\n",
       "                mean\n",
       "Year Month          \n",
       "2017 1      0.057459\n",
       "     2      0.056659\n",
       "     3      0.066859\n",
       "     4      0.066686\n",
       "     5      0.071557"
      ]
     },
     "execution_count": 4,
     "metadata": {},
     "output_type": "execute_result"
    }
   ],
   "source": [
    "season_df = merged_df.groupby(['Year', 'Month']).agg({'PerCapita': ['mean']})\n",
    "# season_df = season_df.reset_index()\n",
    "season_df.head()\n",
    "# df_daily=df.groupby('date').agg(['sum'])\n",
    "\n"
   ]
  },
  {
   "cell_type": "code",
   "execution_count": 5,
   "metadata": {},
   "outputs": [
    {
     "data": {
      "text/plain": [
       "MultiIndex([('PerCapita', 'mean')],\n",
       "           )"
      ]
     },
     "execution_count": 5,
     "metadata": {},
     "output_type": "execute_result"
    }
   ],
   "source": [
    "season_df.columns"
   ]
  },
  {
   "cell_type": "code",
   "execution_count": 6,
   "metadata": {},
   "outputs": [
    {
     "name": "stdout",
     "output_type": "stream",
     "text": [
      "('PerCapita', 'mean')\n"
     ]
    }
   ],
   "source": [
    "for col in season_df:\n",
    "    print(col)"
   ]
  },
  {
   "cell_type": "code",
   "execution_count": 7,
   "metadata": {},
   "outputs": [],
   "source": [
    "season_df.columns = ['PerCapita']\n",
    "season_df.reset_index(inplace=True)"
   ]
  },
  {
   "cell_type": "code",
   "execution_count": 8,
   "metadata": {},
   "outputs": [
    {
     "data": {
      "text/plain": [
       "[2017, 2018, 2019, 2020]"
      ]
     },
     "execution_count": 8,
     "metadata": {},
     "output_type": "execute_result"
    }
   ],
   "source": [
    "\n",
    "season_df[\"Year\"].unique().tolist()"
   ]
  },
  {
   "cell_type": "code",
   "execution_count": 9,
   "metadata": {
    "scrolled": true
   },
   "outputs": [],
   "source": [
    "for y in season_df[\"Year\"].unique().tolist():\n",
    "    season_df[y] = season_df.loc[ season_df[\"Year\"]== y ,'PerCapita']"
   ]
  },
  {
   "cell_type": "code",
   "execution_count": 10,
   "metadata": {},
   "outputs": [],
   "source": [
    "plot_df =season_df.copy(deep=True)"
   ]
  },
  {
   "cell_type": "code",
   "execution_count": 11,
   "metadata": {
    "scrolled": true
   },
   "outputs": [],
   "source": [
    "plot_df = plot_df.drop(columns=[\"Year\",\"PerCapita\"]).set_index(\"Month\")"
   ]
  },
  {
   "cell_type": "code",
   "execution_count": 12,
   "metadata": {},
   "outputs": [
    {
     "data": {
      "text/plain": [
       "Index([2017, 2018, 2019, 2020], dtype='object')"
      ]
     },
     "execution_count": 12,
     "metadata": {},
     "output_type": "execute_result"
    }
   ],
   "source": [
    "plot_df.columns"
   ]
  },
  {
   "cell_type": "code",
   "execution_count": null,
   "metadata": {},
   "outputs": [],
   "source": []
  },
  {
   "cell_type": "code",
   "execution_count": 13,
   "metadata": {},
   "outputs": [
    {
     "data": {
      "text/html": [
       "<div>\n",
       "<style scoped>\n",
       "    .dataframe tbody tr th:only-of-type {\n",
       "        vertical-align: middle;\n",
       "    }\n",
       "\n",
       "    .dataframe tbody tr th {\n",
       "        vertical-align: top;\n",
       "    }\n",
       "\n",
       "    .dataframe thead th {\n",
       "        text-align: right;\n",
       "    }\n",
       "</style>\n",
       "<table border=\"1\" class=\"dataframe\">\n",
       "  <thead>\n",
       "    <tr style=\"text-align: right;\">\n",
       "      <th></th>\n",
       "      <th>2017</th>\n",
       "      <th>2018</th>\n",
       "      <th>2019</th>\n",
       "      <th>2020</th>\n",
       "    </tr>\n",
       "    <tr>\n",
       "      <th>Month</th>\n",
       "      <th></th>\n",
       "      <th></th>\n",
       "      <th></th>\n",
       "      <th></th>\n",
       "    </tr>\n",
       "  </thead>\n",
       "  <tbody>\n",
       "    <tr>\n",
       "      <th>1</th>\n",
       "      <td>0.057459</td>\n",
       "      <td>0.057291</td>\n",
       "      <td>0.061366</td>\n",
       "      <td>0.062484</td>\n",
       "    </tr>\n",
       "    <tr>\n",
       "      <th>2</th>\n",
       "      <td>0.056659</td>\n",
       "      <td>0.056209</td>\n",
       "      <td>0.055927</td>\n",
       "      <td>0.059198</td>\n",
       "    </tr>\n",
       "    <tr>\n",
       "      <th>3</th>\n",
       "      <td>0.066859</td>\n",
       "      <td>0.063961</td>\n",
       "      <td>0.063289</td>\n",
       "      <td>0.067464</td>\n",
       "    </tr>\n",
       "    <tr>\n",
       "      <th>4</th>\n",
       "      <td>0.066686</td>\n",
       "      <td>0.064827</td>\n",
       "      <td>0.068030</td>\n",
       "      <td>0.067205</td>\n",
       "    </tr>\n",
       "    <tr>\n",
       "      <th>5</th>\n",
       "      <td>0.071557</td>\n",
       "      <td>0.074345</td>\n",
       "      <td>0.073457</td>\n",
       "      <td>0.071232</td>\n",
       "    </tr>\n",
       "  </tbody>\n",
       "</table>\n",
       "</div>"
      ],
      "text/plain": [
       "           2017      2018      2019      2020\n",
       "Month                                        \n",
       "1      0.057459  0.057291  0.061366  0.062484\n",
       "2      0.056659  0.056209  0.055927  0.059198\n",
       "3      0.066859  0.063961  0.063289  0.067464\n",
       "4      0.066686  0.064827  0.068030  0.067205\n",
       "5      0.071557  0.074345  0.073457  0.071232"
      ]
     },
     "execution_count": 13,
     "metadata": {},
     "output_type": "execute_result"
    }
   ],
   "source": [
    "final_plot_df = pd.DataFrame({ col: plot_df[col].dropna() for col in plot_df.columns})\n",
    "final_plot_df.head()"
   ]
  },
  {
   "cell_type": "code",
   "execution_count": 14,
   "metadata": {},
   "outputs": [
    {
     "data": {
      "image/png": "[encoded data removed]",
      "text/plain": [
       "<Figure size 432x288 with 1 Axes>"
      ]
     },
     "metadata": {
      "needs_background": "light"
     },
     "output_type": "display_data"
    }
   ],
   "source": [
    "final_plot_df.plot()\n",
    "plt.xlabel(\"Month\")\n",
    "plt.grid()\n",
    "plt.ylabel(\"PerCapita Consumption\")\n",
    "plt.title(\"Seasonality of Alcohol Consumption\")\n",
    "plt.savefig(\"data/vis1season.png\")\n"
   ]
  },
  {
   "cell_type": "code",
   "execution_count": 20,
   "metadata": {},
   "outputs": [],
   "source": [
    "# import matplotlib.pyplot as plt\n",
    "# #plt.plot([\"PerCapita mean\"])\n",
    "# #plt.ylabel('PerCapita')\n",
    "# season_df.plot(x=\"Month\",y=\"PerCapita\")\n"
   ]
  },
  {
   "cell_type": "code",
   "execution_count": 25,
   "metadata": {},
   "outputs": [
    {
     "data": {
      "text/html": [
       "<div>\n",
       "<style scoped>\n",
       "    .dataframe tbody tr th:only-of-type {\n",
       "        vertical-align: middle;\n",
       "    }\n",
       "\n",
       "    .dataframe tbody tr th {\n",
       "        vertical-align: top;\n",
       "    }\n",
       "\n",
       "    .dataframe thead th {\n",
       "        text-align: right;\n",
       "    }\n",
       "</style>\n",
       "<table border=\"1\" class=\"dataframe\">\n",
       "  <thead>\n",
       "    <tr style=\"text-align: right;\">\n",
       "      <th></th>\n",
       "      <th>Unnamed: 0</th>\n",
       "      <th>Year</th>\n",
       "      <th>Month</th>\n",
       "      <th>State</th>\n",
       "      <th>Beverage Type</th>\n",
       "      <th>Gallons</th>\n",
       "      <th>Ethanol</th>\n",
       "      <th>Population</th>\n",
       "      <th>PerCapita</th>\n",
       "      <th>PerCapita3yr</th>\n",
       "      <th>PctChange</th>\n",
       "      <th>index</th>\n",
       "      <th>positive</th>\n",
       "      <th>totalTestResults</th>\n",
       "      <th>Positivity Rate</th>\n",
       "    </tr>\n",
       "  </thead>\n",
       "  <tbody>\n",
       "    <tr>\n",
       "      <th>0</th>\n",
       "      <td>0</td>\n",
       "      <td>2017</td>\n",
       "      <td>1</td>\n",
       "      <td>Alaska</td>\n",
       "      <td>Spirits</td>\n",
       "      <td>103645</td>\n",
       "      <td>42598</td>\n",
       "      <td>593378</td>\n",
       "      <td>0.0718</td>\n",
       "      <td>NaN</td>\n",
       "      <td>NaN</td>\n",
       "      <td>NaN</td>\n",
       "      <td>NaN</td>\n",
       "      <td>NaN</td>\n",
       "      <td>0.0</td>\n",
       "    </tr>\n",
       "    <tr>\n",
       "      <th>1</th>\n",
       "      <td>1</td>\n",
       "      <td>2017</td>\n",
       "      <td>1</td>\n",
       "      <td>Arkansas</td>\n",
       "      <td>Spirits</td>\n",
       "      <td>402885</td>\n",
       "      <td>165586</td>\n",
       "      <td>2455022</td>\n",
       "      <td>0.0674</td>\n",
       "      <td>NaN</td>\n",
       "      <td>NaN</td>\n",
       "      <td>NaN</td>\n",
       "      <td>NaN</td>\n",
       "      <td>NaN</td>\n",
       "      <td>0.0</td>\n",
       "    </tr>\n",
       "    <tr>\n",
       "      <th>2</th>\n",
       "      <td>2</td>\n",
       "      <td>2017</td>\n",
       "      <td>1</td>\n",
       "      <td>Colorado</td>\n",
       "      <td>Spirits</td>\n",
       "      <td>733857</td>\n",
       "      <td>301615</td>\n",
       "      <td>4634346</td>\n",
       "      <td>0.0651</td>\n",
       "      <td>NaN</td>\n",
       "      <td>NaN</td>\n",
       "      <td>NaN</td>\n",
       "      <td>NaN</td>\n",
       "      <td>NaN</td>\n",
       "      <td>0.0</td>\n",
       "    </tr>\n",
       "    <tr>\n",
       "      <th>3</th>\n",
       "      <td>3</td>\n",
       "      <td>2017</td>\n",
       "      <td>1</td>\n",
       "      <td>Connecticut</td>\n",
       "      <td>Spirits</td>\n",
       "      <td>412100</td>\n",
       "      <td>169373</td>\n",
       "      <td>3015481</td>\n",
       "      <td>0.0562</td>\n",
       "      <td>NaN</td>\n",
       "      <td>NaN</td>\n",
       "      <td>NaN</td>\n",
       "      <td>NaN</td>\n",
       "      <td>NaN</td>\n",
       "      <td>0.0</td>\n",
       "    </tr>\n",
       "    <tr>\n",
       "      <th>4</th>\n",
       "      <td>4</td>\n",
       "      <td>2017</td>\n",
       "      <td>1</td>\n",
       "      <td>Florida</td>\n",
       "      <td>Spirits</td>\n",
       "      <td>2770686</td>\n",
       "      <td>1138752</td>\n",
       "      <td>17722275</td>\n",
       "      <td>0.0643</td>\n",
       "      <td>NaN</td>\n",
       "      <td>NaN</td>\n",
       "      <td>NaN</td>\n",
       "      <td>NaN</td>\n",
       "      <td>NaN</td>\n",
       "      <td>0.0</td>\n",
       "    </tr>\n",
       "  </tbody>\n",
       "</table>\n",
       "</div>"
      ],
      "text/plain": [
       "   Unnamed: 0  Year  Month        State Beverage Type  Gallons  Ethanol  \\\n",
       "0           0  2017      1       Alaska       Spirits   103645    42598   \n",
       "1           1  2017      1     Arkansas       Spirits   402885   165586   \n",
       "2           2  2017      1     Colorado       Spirits   733857   301615   \n",
       "3           3  2017      1  Connecticut       Spirits   412100   169373   \n",
       "4           4  2017      1      Florida       Spirits  2770686  1138752   \n",
       "\n",
       "   Population  PerCapita  PerCapita3yr  PctChange  index  positive  \\\n",
       "0      593378     0.0718           NaN        NaN    NaN       NaN   \n",
       "1     2455022     0.0674           NaN        NaN    NaN       NaN   \n",
       "2     4634346     0.0651           NaN        NaN    NaN       NaN   \n",
       "3     3015481     0.0562           NaN        NaN    NaN       NaN   \n",
       "4    17722275     0.0643           NaN        NaN    NaN       NaN   \n",
       "\n",
       "   totalTestResults  Positivity Rate  \n",
       "0               NaN              0.0  \n",
       "1               NaN              0.0  \n",
       "2               NaN              0.0  \n",
       "3               NaN              0.0  \n",
       "4               NaN              0.0  "
      ]
     },
     "execution_count": 25,
     "metadata": {},
     "output_type": "execute_result"
    }
   ],
   "source": [
    "merged_df.head()"
   ]
  },
  {
   "cell_type": "code",
   "execution_count": 47,
   "metadata": {},
   "outputs": [
    {
     "data": {
      "text/plain": [
       "Year  Beverage Type\n",
       "2017  Beer             0.090188\n",
       "      Spirits          0.080462\n",
       "      Wine             0.036707\n",
       "2018  Beer             0.088401\n",
       "      Spirits          0.081422\n",
       "      Wine             0.036455\n",
       "2019  Beer             0.087805\n",
       "      Spirits          0.084167\n",
       "      Wine             0.035961\n",
       "2020  Beer             0.083765\n",
       "      Spirits          0.084339\n",
       "      Wine             0.035041\n",
       "Name: PerCapita, dtype: float64"
      ]
     },
     "execution_count": 47,
     "metadata": {},
     "output_type": "execute_result"
    }
   ],
   "source": [
    "bev_bar_df  = merged_df['PerCapita'].groupby([merged_df['Year'], merged_df['Beverage Type']]).mean()\n",
    "bev_bar_df"
   ]
  },
  {
   "cell_type": "code",
   "execution_count": 50,
   "metadata": {},
   "outputs": [
    {
     "data": {
      "text/plain": [
       "<matplotlib.axes._subplots.AxesSubplot at 0x1e091b7a3d0>"
      ]
     },
     "execution_count": 50,
     "metadata": {},
     "output_type": "execute_result"
    },
    {
     "data": {
      "image/png": "[encoded data removed]",
      "text/plain": [
       "<Figure size 720x216 with 1 Axes>"
      ]
     },
     "metadata": {
      "needs_background": "light"
     },
     "output_type": "display_data"
    }
   ],
   "source": [
    "bev_bar_df.plot(kind='bar', figsize=(10,3))"
   ]
  },
  {
   "cell_type": "code",
   "execution_count": 53,
   "metadata": {},
   "outputs": [
    {
     "data": {
      "text/plain": [
       "Year  Beverage Type\n",
       "2017  Beer             0.090188\n",
       "      Spirits          0.080462\n",
       "      Wine             0.036707\n",
       "2018  Beer             0.088401\n",
       "      Spirits          0.081422\n",
       "      Wine             0.036455\n",
       "2019  Beer             0.087805\n",
       "      Spirits          0.084167\n",
       "      Wine             0.035961\n",
       "2020  Beer             0.083765\n",
       "      Spirits          0.084339\n",
       "      Wine             0.035041\n",
       "Name: PerCapita, dtype: float64"
      ]
     },
     "execution_count": 53,
     "metadata": {},
     "output_type": "execute_result"
    }
   ],
   "source": [
    "bev_bar_df"
   ]
  },
  {
   "cell_type": "code",
   "execution_count": 134,
   "metadata": {},
   "outputs": [],
   "source": [
    "# Turn the data into groups that can be made into a bar chart\n"
   ]
  },
  {
   "cell_type": "code",
   "execution_count": 135,
   "metadata": {},
   "outputs": [
    {
     "data": {
      "text/html": [
       "<div>\n",
       "<style scoped>\n",
       "    .dataframe tbody tr th:only-of-type {\n",
       "        vertical-align: middle;\n",
       "    }\n",
       "\n",
       "    .dataframe tbody tr th {\n",
       "        vertical-align: top;\n",
       "    }\n",
       "\n",
       "    .dataframe thead th {\n",
       "        text-align: right;\n",
       "    }\n",
       "</style>\n",
       "<table border=\"1\" class=\"dataframe\">\n",
       "  <thead>\n",
       "    <tr style=\"text-align: right;\">\n",
       "      <th></th>\n",
       "      <th>2017</th>\n",
       "      <th>2018</th>\n",
       "      <th>2019</th>\n",
       "      <th>2020</th>\n",
       "    </tr>\n",
       "  </thead>\n",
       "  <tbody>\n",
       "    <tr>\n",
       "      <th>0</th>\n",
       "      <td>0.090188</td>\n",
       "      <td>0.088401</td>\n",
       "      <td>0.087805</td>\n",
       "      <td>0.083765</td>\n",
       "    </tr>\n",
       "    <tr>\n",
       "      <th>1</th>\n",
       "      <td>0.080462</td>\n",
       "      <td>0.081422</td>\n",
       "      <td>0.084167</td>\n",
       "      <td>0.084339</td>\n",
       "    </tr>\n",
       "    <tr>\n",
       "      <th>2</th>\n",
       "      <td>0.036707</td>\n",
       "      <td>0.036455</td>\n",
       "      <td>0.035961</td>\n",
       "      <td>0.035041</td>\n",
       "    </tr>\n",
       "  </tbody>\n",
       "</table>\n",
       "</div>"
      ],
      "text/plain": [
       "       2017      2018      2019      2020\n",
       "0  0.090188  0.088401  0.087805  0.083765\n",
       "1  0.080462  0.081422  0.084167  0.084339\n",
       "2  0.036707  0.036455  0.035961  0.035041"
      ]
     },
     "execution_count": 135,
     "metadata": {},
     "output_type": "execute_result"
    }
   ],
   "source": [
    "groups = [[0.090188, 0.080462, 0.036707], \n",
    "          [0.088401, 0.081422, 0.036455], \n",
    "          [0.087805, 0.084167, 0.035961],\n",
    "          [0.083765, 0.084339, 0.035041]]\n",
    "group_labels = ['2017', '2018', '2019', '2020']\n",
    "group_legend = ['Beer', 'Spirits', 'Wine']\n",
    "\n",
    "\n",
    "# Convert data to pandas DataFrame.\n",
    "bar_df = pd.DataFrame(groups, index=group_labels).T\n",
    "\n",
    "bar_df.head()\n"
   ]
  },
  {
   "cell_type": "code",
   "execution_count": 136,
   "metadata": {},
   "outputs": [
    {
     "data": {
      "text/html": [
       "<div>\n",
       "<style scoped>\n",
       "    .dataframe tbody tr th:only-of-type {\n",
       "        vertical-align: middle;\n",
       "    }\n",
       "\n",
       "    .dataframe tbody tr th {\n",
       "        vertical-align: top;\n",
       "    }\n",
       "\n",
       "    .dataframe thead th {\n",
       "        text-align: right;\n",
       "    }\n",
       "</style>\n",
       "<table border=\"1\" class=\"dataframe\">\n",
       "  <thead>\n",
       "    <tr style=\"text-align: right;\">\n",
       "      <th></th>\n",
       "      <th>2017</th>\n",
       "      <th>2018</th>\n",
       "      <th>2019</th>\n",
       "      <th>2020</th>\n",
       "      <th>Beverage</th>\n",
       "    </tr>\n",
       "  </thead>\n",
       "  <tbody>\n",
       "    <tr>\n",
       "      <th>0</th>\n",
       "      <td>0.090188</td>\n",
       "      <td>0.088401</td>\n",
       "      <td>0.087805</td>\n",
       "      <td>0.083765</td>\n",
       "      <td>Beer</td>\n",
       "    </tr>\n",
       "    <tr>\n",
       "      <th>1</th>\n",
       "      <td>0.080462</td>\n",
       "      <td>0.081422</td>\n",
       "      <td>0.084167</td>\n",
       "      <td>0.084339</td>\n",
       "      <td>Spirits</td>\n",
       "    </tr>\n",
       "    <tr>\n",
       "      <th>2</th>\n",
       "      <td>0.036707</td>\n",
       "      <td>0.036455</td>\n",
       "      <td>0.035961</td>\n",
       "      <td>0.035041</td>\n",
       "      <td>Wine</td>\n",
       "    </tr>\n",
       "  </tbody>\n",
       "</table>\n",
       "</div>"
      ],
      "text/plain": [
       "       2017      2018      2019      2020 Beverage\n",
       "0  0.090188  0.088401  0.087805  0.083765     Beer\n",
       "1  0.080462  0.081422  0.084167  0.084339  Spirits\n",
       "2  0.036707  0.036455  0.035961  0.035041     Wine"
      ]
     },
     "execution_count": 136,
     "metadata": {},
     "output_type": "execute_result"
    }
   ],
   "source": [
    "bar_df['Beverage'] = group_legend\n",
    "bar_df"
   ]
  },
  {
   "cell_type": "code",
   "execution_count": 137,
   "metadata": {},
   "outputs": [
    {
     "data": {
      "text/html": [
       "<div>\n",
       "<style scoped>\n",
       "    .dataframe tbody tr th:only-of-type {\n",
       "        vertical-align: middle;\n",
       "    }\n",
       "\n",
       "    .dataframe tbody tr th {\n",
       "        vertical-align: top;\n",
       "    }\n",
       "\n",
       "    .dataframe thead th {\n",
       "        text-align: right;\n",
       "    }\n",
       "</style>\n",
       "<table border=\"1\" class=\"dataframe\">\n",
       "  <thead>\n",
       "    <tr style=\"text-align: right;\">\n",
       "      <th></th>\n",
       "      <th>2017</th>\n",
       "      <th>2018</th>\n",
       "      <th>2019</th>\n",
       "      <th>2020</th>\n",
       "    </tr>\n",
       "    <tr>\n",
       "      <th>Beverage</th>\n",
       "      <th></th>\n",
       "      <th></th>\n",
       "      <th></th>\n",
       "      <th></th>\n",
       "    </tr>\n",
       "  </thead>\n",
       "  <tbody>\n",
       "    <tr>\n",
       "      <th>Beer</th>\n",
       "      <td>0.090188</td>\n",
       "      <td>0.088401</td>\n",
       "      <td>0.087805</td>\n",
       "      <td>0.083765</td>\n",
       "    </tr>\n",
       "    <tr>\n",
       "      <th>Spirits</th>\n",
       "      <td>0.080462</td>\n",
       "      <td>0.081422</td>\n",
       "      <td>0.084167</td>\n",
       "      <td>0.084339</td>\n",
       "    </tr>\n",
       "    <tr>\n",
       "      <th>Wine</th>\n",
       "      <td>0.036707</td>\n",
       "      <td>0.036455</td>\n",
       "      <td>0.035961</td>\n",
       "      <td>0.035041</td>\n",
       "    </tr>\n",
       "  </tbody>\n",
       "</table>\n",
       "</div>"
      ],
      "text/plain": [
       "              2017      2018      2019      2020\n",
       "Beverage                                        \n",
       "Beer      0.090188  0.088401  0.087805  0.083765\n",
       "Spirits   0.080462  0.081422  0.084167  0.084339\n",
       "Wine      0.036707  0.036455  0.035961  0.035041"
      ]
     },
     "execution_count": 137,
     "metadata": {},
     "output_type": "execute_result"
    }
   ],
   "source": [
    "bar_df.set_index('Beverage')"
   ]
  },
  {
   "cell_type": "code",
   "execution_count": 138,
   "metadata": {},
   "outputs": [
    {
     "data": {
      "text/plain": [
       "<matplotlib.axes._subplots.AxesSubplot at 0x1e0949ab7c0>"
      ]
     },
     "execution_count": 138,
     "metadata": {},
     "output_type": "execute_result"
    },
    {
     "data": {
      "image/png": "[encoded data removed]",
      "text/plain": [
       "<Figure size 720x216 with 1 Axes>"
      ]
     },
     "metadata": {
      "needs_background": "light"
     },
     "output_type": "display_data"
    }
   ],
   "source": [
    "# This worked, just need to do it again, switch year and beverage\n",
    "\n",
    "bar_df.plot(kind='bar', figsize=(10,3))"
   ]
  },
  {
   "cell_type": "code",
   "execution_count": 139,
   "metadata": {},
   "outputs": [
    {
     "data": {
      "text/plain": [
       "Year  Beverage Type\n",
       "2017  Beer             0.090188\n",
       "      Spirits          0.080462\n",
       "      Wine             0.036707\n",
       "2018  Beer             0.088401\n",
       "      Spirits          0.081422\n",
       "      Wine             0.036455\n",
       "2019  Beer             0.087805\n",
       "      Spirits          0.084167\n",
       "      Wine             0.035961\n",
       "2020  Beer             0.083765\n",
       "      Spirits          0.084339\n",
       "      Wine             0.035041\n",
       "Name: PerCapita, dtype: float64"
      ]
     },
     "execution_count": 139,
     "metadata": {},
     "output_type": "execute_result"
    }
   ],
   "source": [
    "bev_bar_df"
   ]
  },
  {
   "cell_type": "code",
   "execution_count": 141,
   "metadata": {},
   "outputs": [
    {
     "data": {
      "text/html": [
       "<div>\n",
       "<style scoped>\n",
       "    .dataframe tbody tr th:only-of-type {\n",
       "        vertical-align: middle;\n",
       "    }\n",
       "\n",
       "    .dataframe tbody tr th {\n",
       "        vertical-align: top;\n",
       "    }\n",
       "\n",
       "    .dataframe thead th {\n",
       "        text-align: right;\n",
       "    }\n",
       "</style>\n",
       "<table border=\"1\" class=\"dataframe\">\n",
       "  <thead>\n",
       "    <tr style=\"text-align: right;\">\n",
       "      <th></th>\n",
       "      <th>Beer</th>\n",
       "      <th>Spirits</th>\n",
       "      <th>Wine</th>\n",
       "    </tr>\n",
       "  </thead>\n",
       "  <tbody>\n",
       "    <tr>\n",
       "      <th>0</th>\n",
       "      <td>0.090188</td>\n",
       "      <td>0.080462</td>\n",
       "      <td>0.036707</td>\n",
       "    </tr>\n",
       "    <tr>\n",
       "      <th>1</th>\n",
       "      <td>0.088401</td>\n",
       "      <td>0.081422</td>\n",
       "      <td>0.036455</td>\n",
       "    </tr>\n",
       "    <tr>\n",
       "      <th>2</th>\n",
       "      <td>0.087805</td>\n",
       "      <td>0.084167</td>\n",
       "      <td>0.035961</td>\n",
       "    </tr>\n",
       "    <tr>\n",
       "      <th>3</th>\n",
       "      <td>0.083765</td>\n",
       "      <td>0.084339</td>\n",
       "      <td>0.035041</td>\n",
       "    </tr>\n",
       "  </tbody>\n",
       "</table>\n",
       "</div>"
      ],
      "text/plain": [
       "       Beer   Spirits      Wine\n",
       "0  0.090188  0.080462  0.036707\n",
       "1  0.088401  0.081422  0.036455\n",
       "2  0.087805  0.084167  0.035961\n",
       "3  0.083765  0.084339  0.035041"
      ]
     },
     "execution_count": 141,
     "metadata": {},
     "output_type": "execute_result"
    }
   ],
   "source": [
    "#This will make x axis year and beverage the legend\n",
    "\n",
    "groups = [[0.090188, 0.088401, 0.087805, 0.083765], \n",
    "          [0.080462, 0.081422, 0.084167, 0.084339], \n",
    "          [0.036707, 0.036455, 0.035961, 0.035041]]\n",
    "group_legend = ['2017', '2018', '2019', '2020']\n",
    "group_labels = ['Beer', 'Spirits', 'Wine']\n",
    "\n",
    "\n",
    "# Convert data to pandas DataFrame.\n",
    "bar2_df = pd.DataFrame(groups, index=group_labels).T\n",
    "\n",
    "bar2_df.head()"
   ]
  },
  {
   "cell_type": "code",
   "execution_count": 142,
   "metadata": {},
   "outputs": [
    {
     "data": {
      "text/html": [
       "<div>\n",
       "<style scoped>\n",
       "    .dataframe tbody tr th:only-of-type {\n",
       "        vertical-align: middle;\n",
       "    }\n",
       "\n",
       "    .dataframe tbody tr th {\n",
       "        vertical-align: top;\n",
       "    }\n",
       "\n",
       "    .dataframe thead th {\n",
       "        text-align: right;\n",
       "    }\n",
       "</style>\n",
       "<table border=\"1\" class=\"dataframe\">\n",
       "  <thead>\n",
       "    <tr style=\"text-align: right;\">\n",
       "      <th></th>\n",
       "      <th>Beer</th>\n",
       "      <th>Spirits</th>\n",
       "      <th>Wine</th>\n",
       "      <th>Year</th>\n",
       "    </tr>\n",
       "  </thead>\n",
       "  <tbody>\n",
       "    <tr>\n",
       "      <th>0</th>\n",
       "      <td>0.090188</td>\n",
       "      <td>0.080462</td>\n",
       "      <td>0.036707</td>\n",
       "      <td>2017</td>\n",
       "    </tr>\n",
       "    <tr>\n",
       "      <th>1</th>\n",
       "      <td>0.088401</td>\n",
       "      <td>0.081422</td>\n",
       "      <td>0.036455</td>\n",
       "      <td>2018</td>\n",
       "    </tr>\n",
       "    <tr>\n",
       "      <th>2</th>\n",
       "      <td>0.087805</td>\n",
       "      <td>0.084167</td>\n",
       "      <td>0.035961</td>\n",
       "      <td>2019</td>\n",
       "    </tr>\n",
       "    <tr>\n",
       "      <th>3</th>\n",
       "      <td>0.083765</td>\n",
       "      <td>0.084339</td>\n",
       "      <td>0.035041</td>\n",
       "      <td>2020</td>\n",
       "    </tr>\n",
       "  </tbody>\n",
       "</table>\n",
       "</div>"
      ],
      "text/plain": [
       "       Beer   Spirits      Wine  Year\n",
       "0  0.090188  0.080462  0.036707  2017\n",
       "1  0.088401  0.081422  0.036455  2018\n",
       "2  0.087805  0.084167  0.035961  2019\n",
       "3  0.083765  0.084339  0.035041  2020"
      ]
     },
     "execution_count": 142,
     "metadata": {},
     "output_type": "execute_result"
    }
   ],
   "source": [
    "bar2_df['Year'] = group_legend\n",
    "bar2_df"
   ]
  },
  {
   "cell_type": "code",
   "execution_count": null,
   "metadata": {},
   "outputs": [],
   "source": []
  },
  {
   "cell_type": "code",
   "execution_count": 143,
   "metadata": {},
   "outputs": [],
   "source": [
    "bar2_df = bar2_df.set_index('Year')"
   ]
  },
  {
   "cell_type": "code",
   "execution_count": 144,
   "metadata": {},
   "outputs": [
    {
     "data": {
      "text/html": [
       "<div>\n",
       "<style scoped>\n",
       "    .dataframe tbody tr th:only-of-type {\n",
       "        vertical-align: middle;\n",
       "    }\n",
       "\n",
       "    .dataframe tbody tr th {\n",
       "        vertical-align: top;\n",
       "    }\n",
       "\n",
       "    .dataframe thead th {\n",
       "        text-align: right;\n",
       "    }\n",
       "</style>\n",
       "<table border=\"1\" class=\"dataframe\">\n",
       "  <thead>\n",
       "    <tr style=\"text-align: right;\">\n",
       "      <th></th>\n",
       "      <th>Beer</th>\n",
       "      <th>Spirits</th>\n",
       "      <th>Wine</th>\n",
       "    </tr>\n",
       "    <tr>\n",
       "      <th>Year</th>\n",
       "      <th></th>\n",
       "      <th></th>\n",
       "      <th></th>\n",
       "    </tr>\n",
       "  </thead>\n",
       "  <tbody>\n",
       "    <tr>\n",
       "      <th>2017</th>\n",
       "      <td>0.090188</td>\n",
       "      <td>0.080462</td>\n",
       "      <td>0.036707</td>\n",
       "    </tr>\n",
       "    <tr>\n",
       "      <th>2018</th>\n",
       "      <td>0.088401</td>\n",
       "      <td>0.081422</td>\n",
       "      <td>0.036455</td>\n",
       "    </tr>\n",
       "    <tr>\n",
       "      <th>2019</th>\n",
       "      <td>0.087805</td>\n",
       "      <td>0.084167</td>\n",
       "      <td>0.035961</td>\n",
       "    </tr>\n",
       "    <tr>\n",
       "      <th>2020</th>\n",
       "      <td>0.083765</td>\n",
       "      <td>0.084339</td>\n",
       "      <td>0.035041</td>\n",
       "    </tr>\n",
       "  </tbody>\n",
       "</table>\n",
       "</div>"
      ],
      "text/plain": [
       "          Beer   Spirits      Wine\n",
       "Year                              \n",
       "2017  0.090188  0.080462  0.036707\n",
       "2018  0.088401  0.081422  0.036455\n",
       "2019  0.087805  0.084167  0.035961\n",
       "2020  0.083765  0.084339  0.035041"
      ]
     },
     "execution_count": 144,
     "metadata": {},
     "output_type": "execute_result"
    }
   ],
   "source": [
    "bar2_df"
   ]
  },
  {
   "cell_type": "raw",
   "metadata": {},
   "source": []
  },
  {
   "cell_type": "code",
   "execution_count": null,
   "metadata": {},
   "outputs": [],
   "source": []
  },
  {
   "cell_type": "code",
   "execution_count": 156,
   "metadata": {},
   "outputs": [
    {
     "data": {
      "image/png": "[encoded data removed]",
      "text/plain": [
       "<Figure size 720x216 with 1 Axes>"
      ]
     },
     "metadata": {
      "needs_background": "light"
     },
     "output_type": "display_data"
    }
   ],
   "source": [
    "\n",
    "\n",
    "bar2_df.plot(kind='bar', figsize=(10,3), align=\"center\")\n",
    "plt.title(\"PerCapita Alcohol Consumption by Year, Beverage\")\n",
    "plt.xlabel(\"Year\")\n",
    "plt.ylabel(\"PerCapita (Gallons)\")\n",
    "plt.xticks(rotation=30, horizontalalignment=\"center\")\n",
    "plt.legend(loc='upper right', bbox_to_anchor=(1.15, 1))\n",
    "\n",
    "plt.savefig(\"data/vis2beverage.png\")"
   ]
  },
  {
   "cell_type": "code",
   "execution_count": null,
   "metadata": {},
   "outputs": [],
   "source": []
  },
  {
   "cell_type": "code",
   "execution_count": null,
   "metadata": {},
   "outputs": [],
   "source": []
  },
  {
   "cell_type": "code",
   "execution_count": null,
   "metadata": {},
   "outputs": [],
   "source": []
  },
  {
   "cell_type": "code",
   "execution_count": null,
   "metadata": {},
   "outputs": [],
   "source": []
  },
  {
   "cell_type": "code",
   "execution_count": null,
   "metadata": {},
   "outputs": [],
   "source": []
  }
 ],
 "metadata": {
  "kernelspec": {
   "display_name": "Python 3",
   "language": "python",
   "name": "python3"
  },
  "language_info": {
   "codemirror_mode": {
    "name": "ipython",
    "version": 3
   },
   "file_extension": ".py",
   "mimetype": "text/x-python",
   "name": "python",
   "nbconvert_exporter": "python",
   "pygments_lexer": "ipython3",
   "version": "3.8.3"
  }
 },
 "nbformat": 4,
 "nbformat_minor": 2
}

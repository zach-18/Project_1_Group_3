{
 "cells": [
  {
   "cell_type": "markdown",
   "metadata": {},
   "source": [
    "# Did Alcohol Consumption Trends Change Due to COVID Infection Rates and Shutdowns?"
   ]
  },
  {
   "cell_type": "markdown",
   "metadata": {},
   "source": [
    "#### New York Time article and information\n",
    "\n",
    "* [Link: New York Time article on State by State COVID Shutdowns](https://www.nytimes.com/interactive/2020/us/states-reopen-map-coronavirus.html)\n",
    "* The article includes shutdown dates and durations\n",
    "* National Shutdownn started March 13th, 2020"
   ]
  },
  {
   "cell_type": "markdown",
   "metadata": {},
   "source": [
    "![New York Times: See How All 50 States Are Reopening (and Closing Again) ](Images/nytimes_covid_shutdown_map.png)"
   ]
  },
  {
   "cell_type": "markdown",
   "metadata": {},
   "source": [
    "#### Include/Create a bar chart for comparing shutdown durations by state\n",
    "* Example Image (created in excel)\n",
    "\n",
    "![Shutdown Durations by State](Images/example_bar_chart.png)"
   ]
  },
  {
   "cell_type": "markdown",
   "metadata": {},
   "source": [
    "#### NIH Alcohol Consumption Data\n",
    "\n",
    "* [National Institute on Alcohol Abuse and Alcoholism\n",
    "Division of Epidemiology and Prevention Research\n",
    "Alcohol Epidemiologic Data System | SURVEILLANCE REPORT COVID-19 | Alcohol Sales During the COVID-19 Pandemic](https://pubs.niaaa.nih.gov/publications/surveillance-covid-19/COVSALES.htm)\n",
    "* The data includes only sixteeen (16) states (so far) and four (4) months: March, April, May and June 2020. \n",
    "* The data tracks per capita (percentage of population) of alcohol sales during the COVID-19 pandemic.\n",
    "* The data comes from various state sources that monitor sales, primarily for taxation purposes and does not differentiate between on/off premises. \n",
    "* The sales data is converted to gallons of ethanol (pure alcohol) and divided by each state's population of people ages 14 and older to obtain \"per capita ethanol estimates\" that can be compared across states, beverage types and years. "
   ]
  },
  {
   "cell_type": "markdown",
   "metadata": {},
   "source": [
    "#### Include/Create a line chart for showing seasonality in alcohol consumption rates \n",
    "\n",
    "![Alcohol Consumption (volume) by Year](Images/alcohol_consumption_by_year.png)"
   ]
  },
  {
   "cell_type": "markdown",
   "metadata": {},
   "source": [
    "#### Include/Create a bar chart for showing beverage type preference by year\n",
    "\n",
    "![Alcohol Consumption Preference by Year](Images/alcohol_preference_by_year.png)"
   ]
  },
  {
   "cell_type": "markdown",
   "metadata": {},
   "source": [
    "#### Include/Create a scatter chart for showing changes in alcohol consumption by ?\n",
    "\n",
    "![Alcohol Consumption (?)](Images/alcConsScatterRG.png)"
   ]
  },
  {
   "cell_type": "markdown",
   "metadata": {},
   "source": [
    "#### The COVID Tracking Project\n",
    "\n",
    "* [Link: The COVID Tracking Project | Our Data](https://covidtracking.com/data)\n",
    "* The data is updated daily at 7pm Eastern Time, we reference data through May/June to align with the NIH Alcohol Consumption data which was last updated June 2020. \n",
    "* The data includes: total/new/change for cases, test, hospitalizations and outcomes. \n",
    "* For our analysis, we focused on total and new cases only. "
   ]
  },
  {
   "cell_type": "markdown",
   "metadata": {},
   "source": [
    "#### Include/Create a line chart for showing COVID positive (test) rate by state\n",
    "* COVID positive (test) rate = number of positive test results divided by total number of tests \n",
    "\n",
    "![Covid Positive Rate by State ](Images/covidpositivesRG.png)"
   ]
  },
  {
   "cell_type": "markdown",
   "metadata": {},
   "source": [
    "#### Question #1: \n",
    "What, if any, non-Pandemic year alcohol consumption rate changes occur with a given year? (i.e. Seasonality)"
   ]
  },
  {
   "cell_type": "markdown",
   "metadata": {},
   "source": [
    "#### Question #2: \n",
    "Did alcohol consumption change in 2020/Pandemic months from the prior year? (i.e. Variance)"
   ]
  },
  {
   "cell_type": "markdown",
   "metadata": {},
   "source": [
    "#### Question #3: \n",
    "How did COVID shutdowns and infections rates affect alcohol consumption – if at all?"
   ]
  },
  {
   "cell_type": "markdown",
   "metadata": {},
   "source": [
    " #### Question #4: \n",
    "Which regions of the U.S. saw increases in alcohol tax revenue?"
   ]
  },
  {
   "cell_type": "markdown",
   "metadata": {},
   "source": [
    "#### Question #5: \n",
    "Did regions not affected by shutdowns see any significant changes in alcohol consumption? "
   ]
  },
  {
   "cell_type": "markdown",
   "metadata": {},
   "source": [
    "#### Question #6: \n",
    "Were alcohol consumption rates associated with infection rates? Or vice versa. "
   ]
  },
  {
   "cell_type": "markdown",
   "metadata": {},
   "source": []
  },
  {
   "cell_type": "markdown",
   "metadata": {},
   "source": []
  },
  {
   "cell_type": "markdown",
   "metadata": {},
   "source": []
  },
  {
   "cell_type": "markdown",
   "metadata": {},
   "source": []
  },
  {
   "cell_type": "markdown",
   "metadata": {},
   "source": []
  }
 ],
 "metadata": {
  "kernelspec": {
   "display_name": "Python [conda env:root] *",
   "language": "python",
   "name": "conda-root-py"
  },
  "language_info": {
   "codemirror_mode": {
    "name": "ipython",
    "version": 3
   },
   "file_extension": ".py",
   "mimetype": "text/x-python",
   "name": "python",
   "nbconvert_exporter": "python",
   "pygments_lexer": "ipython3",
   "version": "3.8.3"
  }
 },
 "nbformat": 4,
 "nbformat_minor": 4
}

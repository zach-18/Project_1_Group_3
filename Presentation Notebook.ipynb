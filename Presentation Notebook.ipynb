{
 "cells": [
  {
   "cell_type": "markdown",
   "metadata": {},
   "source": [
    "# Did Alcohol Consumption Trends Change Due to COVID Infection Rates and Shutdowns?"
   ]
  },
  {
   "cell_type": "markdown",
   "metadata": {},
   "source": [
    "#### New York Time article and information\n",
    "\n",
    "* [Link: New York Time article on State by State COVID Shutdowns](https://www.nytimes.com/interactive/2020/us/states-reopen-map-coronavirus.html)\n",
    "* The article includes shutdown dates and durations\n",
    "* National Shutdownn started March 13th, 2020"
   ]
  },
  {
   "cell_type": "markdown",
   "metadata": {},
   "source": [
    "![New York Times: See How All 50 States Are Reopening (and Closing Again) ](Images/nytimes_covid_shutdown_map.png)"
   ]
  },
  {
   "cell_type": "markdown",
   "metadata": {},
   "source": [
    "#### Include/Create a bar chart for comparing shutdown durations by state\n",
    "* Example Image (created in excel)\n",
    "\n",
    "![Shutdown Durations by State](Images/example_bar_chart.png)"
   ]
  },
  {
   "cell_type": "markdown",
   "metadata": {},
   "source": [
    "#### NIH Alcohol Consumption Data\n",
    "\n",
    "* [National Institute on Alcohol Abuse and Alcoholism\n",
    "Division of Epidemiology and Prevention Research\n",
    "Alcohol Epidemiologic Data System | SURVEILLANCE REPORT COVID-19 | Alcohol Sales During the COVID-19 Pandemic](https://pubs.niaaa.nih.gov/publications/surveillance-covid-19/COVSALES.htm)\n",
    "* The data includes only sixteeen (16) states (so far) and four (4) months: March, April, May and June 2020. \n",
    "* The data tracks per capita (percentage of population) of alcohol sales during the COVID-19 pandemic.\n",
    "* The data comes from various state sources that monitor sales, primarily for taxation purposes and does not differentiate between on/off premises. \n",
    "* The sales data is converted to gallons of ethanol (pure alcohol) and divided by each state's population of people ages 14 and older to obtain \"per capita ethanol estimates\" that can be compared across states, beverage types and years. "
   ]
  },
  {
   "cell_type": "markdown",
   "metadata": {},
   "source": [
    "#### Include/Create a line chart for showing seasonality in alcohol consumption rates \n",
    "```\n",
    "final_plot_df.plot()\n",
    "plt.xlabel(\"Month\")\n",
    "plt.grid()\n",
    "plt.ylabel(\"PerCapita Consumption\")\n",
    "plt.title(\"Seasonality of Alcohol Consumption\")\n",
    "plt.savefig(\"data/vis1season.png\")\n",
    "```\n",
    "\n",
    "![Alcohol Consumption (volume) by Year](Images/alcohol_consumption_by_year.png)"
   ]
  },
  {
   "cell_type": "markdown",
   "metadata": {},
   "source": [
    "#### Include/Create a bar chart for showing beverage type preference by year\n",
    "```\n",
    "\n",
    "bar2_df.plot(kind='bar', figsize=(10,3), align=\"center\")\n",
    "plt.title(\"PerCapita Alcohol Consumption by Year, Beverage\")\n",
    "plt.xlabel(\"Year\")\n",
    "plt.ylabel(\"PerCapita (Gallons)\")\n",
    "plt.xticks(rotation=30, horizontalalignment=\"center\")\n",
    "plt.legend(loc='upper right', bbox_to_anchor=(1.15, 1))\n",
    "\n",
    "plt.savefig(\"data/vis2beverage.png\")\n",
    "```\n",
    "![Alcohol Consumption Preference by Year](Images/alcohol_preference_by_year.png)"
   ]
  },
  {
   "cell_type": "markdown",
   "metadata": {},
   "source": [
    "#### Include/Create a scatter chart for showing changes in alcohol consumption by ?\n",
    "```\n",
    "xval = final_df['Per Capita Before']\n",
    "yval = final_df['Per Capita After']\n",
    "sizes = (2*final_df['Shutdown Length'])+10\n",
    "plt.figure(figsize=(8,6), dpi=80)\n",
    "plt.ylim(0,1.3)\n",
    "plt.xlim(0,1.3)\n",
    "plt.xlabel(\"Per Capita Consumption 2017-19\")\n",
    "plt.ylabel(\"Per Capita Consumption 2020\")\n",
    "plt.title(\"Changes in per capita consumption as a result of COVID\")\n",
    "\n",
    "(slope, intercept, rvalue, pvalue, stderr) = linregress(xval, yval)\n",
    "regress_values = xval * slope + intercept\n",
    "line_eq = \"y = \" + str(round(slope,2)) + \"x + \" + str(round(intercept,2))\n",
    "plt.plot(xval,regress_values,\"b--\",alpha=0.5)\n",
    "plt.annotate(line_eq,(0.2,0.2),fontsize=15,color=\"blue\")\n",
    "\n",
    "alcConsScatter = plt.scatter(xval, yval, marker=\"o\", facecolors=\"red\", edgecolors=\"black\", s=sizes, alpha=0.75)\n",
    "\n",
    "plt.legend([alcConsScatter],[\"Length of shutdown\"], loc=\"lower left\",fontsize=10)\n",
    "\n",
    "alcConsScatter\n",
    "\n",
    "# save data viz to png\n",
    "plt.savefig(\"alcConsScatterRG.png\")\n",
    "```\n",
    "![Alcohol Consumption (?)](Images/alcConsScatterRG.png)"
   ]
  },
  {
   "cell_type": "markdown",
   "metadata": {},
   "source": [
    "#### The COVID Tracking Project\n",
    "\n",
    "* [Link: The COVID Tracking Project | Our Data](https://covidtracking.com/data)\n",
    "* The data is updated daily at 7pm Eastern Time, we reference data through May/June to align with the NIH Alcohol Consumption data which was last updated June 2020. \n",
    "* The data includes: total/new/change for cases, test, hospitalizations and outcomes. \n",
    "* For our analysis, we focused on total and new cases only. "
   ]
  },
  {
   "cell_type": "markdown",
   "metadata": {},
   "source": [
    "#### Include/Create a line chart for showing COVID positive (test) rate by state\n",
    "* COVID positive (test) rate = number of positive test results divided by total number of tests\n",
    "```\n",
    "plt.figure(figsize=(10,8), dpi=80)\n",
    "plt.xlabel(\"Month\")\n",
    "plt.ylabel(\"COVID positivity rate\")\n",
    "plt.title(\"COVID positive test rate by state, March-June\")\n",
    "plt.xlim(2.75,6.25)\n",
    "plt.xticks(np.arange(3,7, step=1), ['March','April','May','June'])\n",
    "akplot, = plt.plot([3,4,5,6], alaskanums['Positivity Rate'], color='b', label=\"Alaska\", marker=\".\")\n",
    "arplot, = plt.plot([3,4,5,6], arkansasnums['Positivity Rate'], color='g', label=\"Arkansas\", marker=\".\")\n",
    "coplot, = plt.plot([3,4,5], coloradonums['Positivity Rate'], color='r', label=\"Colorado\", marker=\".\")\n",
    "flplot, = plt.plot([3,4,5,6], floridanums['Positivity Rate'], color='m', label=\"Florida\", marker=\".\")\n",
    "ilplot, = plt.plot([3,4,5,6], illinoisnums['Positivity Rate'], color='y', label=\"Illinois\", marker=\".\")\n",
    "ksplot, = plt.plot([3,4,5,6], kansasnums['Positivity Rate'], color='k', label=\"Kansas\", marker=\".\")\n",
    "kyplot, = plt.plot([3,4,5,6], kentuckynums['Positivity Rate'], color='silver', label=\"Kentucky\", marker=\".\")\n",
    "laplot, = plt.plot([3,4,5,6], louisiananums['Positivity Rate'], color='b', label=\"Louisiana\", marker=\"s\")\n",
    "maplot, = plt.plot([3,4,5,6], massachusettsnums['Positivity Rate'], color='g', label=\"Massachusetts\", marker=\"s\")\n",
    "moplot, = plt.plot([3,4,5,6], missourinums['Positivity Rate'], color='r', label=\"Missouri\", marker=\"s\")\n",
    "ndplot, = plt.plot([3,4,5,6], ndnums['Positivity Rate'], color='c', label=\"North Dakota\", marker=\"s\")\n",
    "orplot, = plt.plot([3,4,5,6], oregonnums['Positivity Rate'], color='m', label=\"Oregon\", marker=\"s\")\n",
    "txplot, = plt.plot([3,4,5,6], texasnums['Positivity Rate'], color='y', label=\"Texas\", marker=\"s\")\n",
    "vaplot, = plt.plot([3,4,5,6], virginianums['Positivity Rate'], color='k', label=\"Virginia\", marker=\"s\")\n",
    "wiplot, = plt.plot([3,4,5,6], wisconsinnums['Positivity Rate'], color='silver', label=\"Wisconsin\", marker=\"s\")\n",
    "plt.legend(handles=[akplot,arplot,coplot,flplot,ilplot,ksplot,kyplot,laplot,maplot,moplot,ndplot,orplot,txplot,vaplot,wiplot],loc=\"best\",ncol=2)\n",
    "plt.savefig(\"covidpositivesRG.png\")\n",
    "plt.show()\n",
    "```\n",
    "![Covid Positive Rate by State ](Images/covidpositivesRG.png)"
   ]
  },
  {
   "cell_type": "markdown",
   "metadata": {},
   "source": [
    "#### Question #1: \n",
    "What, if any, non-Pandemic year alcohol consumption rate changes occur with a given year? (i.e. Seasonality)"
   ]
  },
  {
   "cell_type": "markdown",
   "metadata": {},
   "source": [
    "#### Question #2: \n",
    "Did alcohol consumption change in 2020/Pandemic months from the prior year? (i.e. Variance)"
   ]
  },
  {
   "cell_type": "markdown",
   "metadata": {},
   "source": [
    "#### Question #3: \n",
    "How did COVID shutdowns and infections rates affect alcohol consumption – if at all?"
   ]
  },
  {
   "cell_type": "markdown",
   "metadata": {},
   "source": [
    " #### Question #4: \n",
    "Which regions of the U.S. saw increases in alcohol tax revenue?"
   ]
  },
  {
   "cell_type": "markdown",
   "metadata": {},
   "source": [
    "#### Question #5: \n",
    "Did regions not affected by shutdowns see any significant changes in alcohol consumption? "
   ]
  },
  {
   "cell_type": "markdown",
   "metadata": {},
   "source": [
    "#### Question #6: \n",
    "Were alcohol consumption rates associated with infection rates? Or vice versa. "
   ]
  },
  {
   "cell_type": "markdown",
   "metadata": {},
   "source": []
  },
  {
   "cell_type": "markdown",
   "metadata": {},
   "source": []
  },
  {
   "cell_type": "markdown",
   "metadata": {},
   "source": []
  },
  {
   "cell_type": "markdown",
   "metadata": {},
   "source": []
  },
  {
   "cell_type": "markdown",
   "metadata": {},
   "source": []
  }
 ],
 "metadata": {
  "kernelspec": {
   "display_name": "Python [conda env:root] *",
   "language": "python",
   "name": "conda-root-py"
  },
  "language_info": {
   "codemirror_mode": {
    "name": "ipython",
    "version": 3
   },
   "file_extension": ".py",
   "mimetype": "text/x-python",
   "name": "python",
   "nbconvert_exporter": "python",
   "pygments_lexer": "ipython3",
   "version": "3.8.3"
  }
 },
 "nbformat": 4,
 "nbformat_minor": 4
}

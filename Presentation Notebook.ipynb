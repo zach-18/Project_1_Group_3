{
 "cells": [
  {
   "cell_type": "markdown",
   "metadata": {},
   "source": [
    "# Did Alcohol Consumption Trends Change Due to COVID Infection Rates and Shutdowns?"
   ]
  },
  {
   "cell_type": "markdown",
   "metadata": {},
   "source": [
    "#### New York Time article and information\n",
    "\n",
    "* [Link: New York Time article on State by State COVID Shutdowns](https://www.nytimes.com/interactive/2020/us/states-reopen-map-coronavirus.html)\n",
    "* The article includes shutdown dates and durations\n",
    "* National Shutdownn started March 13th, 2020"
   ]
  },
  {
   "cell_type": "markdown",
   "metadata": {},
   "source": [
    "![New York Times: See How All 50 States Are Reopening (and Closing Again) ](Images/nytimes_covid_shutdown_map.png)"
   ]
  },
  {
   "cell_type": "markdown",
   "metadata": {},
   "source": [
    "#### Include/Create a bar chart for comparing shutdown durations by state\n",
    "* Example Image (created in excel)\n",
    "\n",
    "![Shutdown Durations by State](Images/example_bar_chart.png)"
   ]
  },
  {
   "cell_type": "markdown",
   "metadata": {},
   "source": [
    "#### Question #1: \n",
    "What, if any, non-Pandemic year alcohol consumption rate changes occur with a given year? (i.e. Seasonality)"
   ]
  },
  {
   "cell_type": "markdown",
   "metadata": {},
   "source": [
    "#### Question #2: \n",
    "Did alcohol consumption change in 2020/Pandemic months from the prior year? (i.e. Variance)"
   ]
  },
  {
   "cell_type": "markdown",
   "metadata": {},
   "source": [
    "#### Question #3: \n",
    "How did COVID shutdowns and infections rates affect alcohol consumption – if at all?"
   ]
  },
  {
   "cell_type": "markdown",
   "metadata": {},
   "source": [
    " #### Question #4: \n",
    "Which regions of the U.S. saw increases in alcohol tax revenue?"
   ]
  },
  {
   "cell_type": "markdown",
   "metadata": {},
   "source": [
    "#### Question #5: \n",
    "Did regions not affected by shutdowns see any significant changes in alcohol consumption? "
   ]
  },
  {
   "cell_type": "markdown",
   "metadata": {},
   "source": [
    "#### Question #6: \n",
    "Were alcohol consumption rates associated with infection rates? Or vice versa. "
   ]
  },
  {
   "cell_type": "markdown",
   "metadata": {},
   "source": []
  },
  {
   "cell_type": "markdown",
   "metadata": {},
   "source": []
  },
  {
   "cell_type": "markdown",
   "metadata": {},
   "source": []
  },
  {
   "cell_type": "markdown",
   "metadata": {},
   "source": []
  },
  {
   "cell_type": "markdown",
   "metadata": {},
   "source": []
  }
 ],
 "metadata": {
  "kernelspec": {
   "display_name": "Python [conda env:root] *",
   "language": "python",
   "name": "conda-root-py"
  },
  "language_info": {
   "codemirror_mode": {
    "name": "ipython",
    "version": 3
   },
   "file_extension": ".py",
   "mimetype": "text/x-python",
   "name": "python",
   "nbconvert_exporter": "python",
   "pygments_lexer": "ipython3",
   "version": "3.8.3"
  }
 },
 "nbformat": 4,
 "nbformat_minor": 4
}

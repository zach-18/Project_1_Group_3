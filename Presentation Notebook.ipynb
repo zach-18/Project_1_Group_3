{
 "cells": [
  {
   "cell_type": "markdown",
   "metadata": {
    "slideshow": {
     "slide_type": "slide"
    }
   },
   "source": [
    "# Did Alcohol Consumption Trends Change Due to COVID Infection Rates and Shutdowns?"
   ]
  },
  {
   "cell_type": "markdown",
   "metadata": {
    "slideshow": {
     "slide_type": "slide"
    }
   },
   "source": [
    "#### New York Time article and information\n",
    "\n",
    "* [Link: New York Time article on State by State COVID Shutdowns](https://www.nytimes.com/interactive/2020/us/states-reopen-map-coronavirus.html)\n",
    "* The article includes shutdown dates and durations\n",
    "* National Shutdownn started March 13th, 2020\n",
    "![New York Times: See How All 50 States Are Reopening (and Closing Again) ](Images/nytimes_covid_shutdown_map.png)"
   ]
  },
  {
   "cell_type": "markdown",
   "metadata": {
    "slideshow": {
     "slide_type": "slide"
    }
   },
   "source": [
    "#### NIH Alcohol Consumption Data\n",
    "\n",
    "* [National Institute on Alcohol Abuse and Alcoholism\n",
    "Division of Epidemiology and Prevention Research\n",
    "Alcohol Epidemiologic Data System | SURVEILLANCE REPORT COVID-19 | Alcohol Sales During the COVID-19 Pandemic](https://pubs.niaaa.nih.gov/publications/surveillance-covid-19/COVSALES.htm)\n",
    "* The data includes only sixteeen (16) states (so far) and four (4) months: March, April, May and June 2020. \n",
    "* The data tracks per capita (percentage of population) of alcohol sales during the COVID-19 pandemic.\n",
    "* The data comes from various state sources that monitor sales, primarily for taxation purposes and does not differentiate between on/off premises. \n",
    "* The sales data is converted to gallons of ethanol (pure alcohol) and divided by each state's population of people ages 14 and older to obtain \"per capita ethanol estimates\" that can be compared across states, beverage types and years. "
   ]
  },
  {
   "cell_type": "markdown",
   "metadata": {
    "slideshow": {
     "slide_type": "slide"
    }
   },
   "source": [
    "#### Question #1:\n",
    "What, if any, non-Pandemic year alcohol consumption rate changes occur with a given year? (i.e. Seasonality)\n",
    "* Alcohol consumption peaks during the summer, and then again, smaller, during the holiday season.\n",
    "* Year over year, per capita  alcohol consumption spikes in June, and reaches its lowest point each February.\n",
    "![Average Alcohol Consumption (per capita) by Year](Images/vis1season.png)\n",
    "![Average Alcohol Consumption (per capita) by Year](Images/fig1.png)\n",
    "![Average Alcohol Consumption (per capita) by Year](Images/fig2.png)\n",
    "![Average Alcohol Consumption (per capita) by Year](Images/fig3.png)"
   ]
  },
  {
   "cell_type": "markdown",
   "metadata": {
    "slideshow": {
     "slide_type": "slide"
    }
   },
   "source": [
    "#### Question #2:\n",
    "Did alcohol consumption change in 2020/Pandemic months from the prior year? (i.e. sum)\n",
    "* January through March of 2020, we were on track for record high per capita consumption.  However, a significant change occurred starting in April.  By May and June of 2020 , Total Gallons per Capita were significantly lower than previous years.\n",
    "![Total Alcohol Consumption (volume) by Year](Images/fig4.png)\n",
    "![Total Alcohol Consumption (volume) by Year](Images/fig5.png)"
   ]
  },
  {
   "cell_type": "markdown",
   "metadata": {
    "slideshow": {
     "slide_type": "slide"
    }
   },
   "source": [
    "#### Question #3: \n",
    "How did COVID shutdowns and infections rates affect alcohol consumption – if at all?\n",
    "* Consumption dropped in 2020 in nearly every state studied, sometimes by a large amount. Consumption in 2020 was only about 85% of what it was in previous years.\n",
    "![Total Alcohol Consumption (volume) by Year](Images/fig6.png)"
   ]
  },
  {
   "cell_type": "markdown",
   "metadata": {
    "slideshow": {
     "slide_type": "slide"
    }
   },
   "source": [
    "#### Question #4: \n",
    "Were alcohol consumption rates associated with infection rates? Or vice versa.\n",
    "* The low R-sq means there was not a correlation between the two factors.\n",
    "```\n",
    "r-squared is: 0.05457303978387858 \n",
    "y = -43.58x + 56.19\n",
    "```\n",
    "![Total Alcohol Consumption (volume) by Year](Images/fig7.png)\n"
   ]
  }
 ],
 "metadata": {
  "celltoolbar": "Slideshow",
  "kernelspec": {
   "display_name": "Python [conda env:root] *",
   "language": "python",
   "name": "conda-root-py"
  },
  "language_info": {
   "codemirror_mode": {
    "name": "ipython",
    "version": 3
   },
   "file_extension": ".py",
   "mimetype": "text/x-python",
   "name": "python",
   "nbconvert_exporter": "python",
   "pygments_lexer": "ipython3",
   "version": "3.8.3"
  }
 },
 "nbformat": 4,
 "nbformat_minor": 4
}
